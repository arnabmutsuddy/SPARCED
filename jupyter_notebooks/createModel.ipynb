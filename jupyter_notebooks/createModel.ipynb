{
 "cells": [
  {
   "cell_type": "code",
   "execution_count": 13,
   "metadata": {},
   "outputs": [],
   "source": [
    "# createModel section: builds the model (doesn't execute)"
   ]
  },
  {
   "cell_type": "code",
   "execution_count": 2,
   "metadata": {},
   "outputs": [],
   "source": [
    "import sys\n",
    "import os\n",
    "sys.path.append(os.getcwd()[0:os.getcwd().rfind('/')]+'/bin')"
   ]
  },
  {
   "cell_type": "code",
   "execution_count": 1,
   "metadata": {},
   "outputs": [],
   "source": [
    "import libsbml\n",
    "import importlib\n",
    "import amici\n",
    "import amici.plotting\n",
    "import sys\n",
    "import numpy as np\n",
    "import matplotlib.pyplot as plt\n",
    "import re\n",
    "from antimony import *\n",
    "from modules.paramSweep import paramSweep\n",
    "from modules.copyDir import copyDirectory"
   ]
  },
  {
   "cell_type": "code",
   "execution_count": 3,
   "metadata": {},
   "outputs": [],
   "source": [
    "#copy input files over to current directory\n",
    "current_dir = os.getcwd()\n",
    "input_data_folder = current_dir[0:current_dir.rfind('/')+1]+'input_files'\n",
    "copyDirectory(input_data_folder, os.getcwd()+\"/\")"
   ]
  },
  {
   "cell_type": "code",
   "execution_count": null,
   "metadata": {},
   "outputs": [],
   "source": [
    "# Input and output file name definitions\n",
    "fileComps = 'Compartments.txt' # input\n",
    "fileSpecies = 'Species.txt' # input\n",
    "fileStoic = 'StoicMat.txt' # input\n",
    "fileRatelaws = 'Ratelaws.txt' # input"
   ]
  },
  {
   "cell_type": "code",
   "execution_count": null,
   "metadata": {},
   "outputs": [],
   "source": [
    "# Antimony model name and text\n",
    "fileModel = open('SPARCED.txt','w') # file name\n",
    "fileModel.write(\"# PanCancer Model by Birtwistle Lab \\n\") # some explanation\n",
    "fileModel.write(\"model SPARCED()\\n\") # model name"
   ]
  },
  {
   "cell_type": "code",
   "execution_count": null,
   "metadata": {},
   "outputs": [],
   "source": [
    "# SBML model we want to import\n",
    "sbml_file = 'SPARCED.xml'\n",
    "# Name of the model that will also be the name of the python module\n",
    "model_name = sbml_file[0:-4] # 'BigModel_byparts_v1'\n",
    "# Directory to which the generated model code is written\n",
    "model_output_dir = model_name"
   ]
  },
  {
   "cell_type": "code",
   "execution_count": null,
   "metadata": {},
   "outputs": [],
   "source": [
    "# Initializing compartment and volume lists\n",
    "compartments = []\n",
    "volumes = []"
   ]
  },
  {
   "cell_type": "code",
   "execution_count": null,
   "metadata": {},
   "outputs": [],
   "source": [
    "# Create/write compartments\n",
    "compartment_sheet = np.array([np.array(line.strip().split(\"\\t\")) for line in open(fileComps)])"
   ]
  },
  {
   "cell_type": "code",
   "execution_count": null,
   "metadata": {},
   "outputs": [],
   "source": [
    "#read in each line minus the header row of compartments file\n",
    "for row in compartment_sheet[1:]:\n",
    "    compartments.append(row[0])\n",
    "    volumes.append(row[1])"
   ]
  },
  {
   "cell_type": "code",
   "execution_count": null,
   "metadata": {},
   "outputs": [],
   "source": [
    "#Write each compartment to model txt file\n",
    "fileModel.write(\"\\n  # Compartments and Species:\\n\")\n",
    "for idx in range(len(compartments)):\n",
    "    compName = compartments[idx]\n",
    "    fileModel.write(\"  Compartment %s; \" % (compName))\n",
    "fileModel.write(\"\\n\")"
   ]
  },
  {
   "cell_type": "code",
   "execution_count": null,
   "metadata": {},
   "outputs": [],
   "source": [
    "# Write species and assign compartments\n",
    "species_sheet = np.array([np.array(line.strip().split(\"\\t\")) for line in open('Species.txt', encoding='latin-1')])"
   ]
  },
  {
   "cell_type": "code",
   "execution_count": null,
   "metadata": {},
   "outputs": [],
   "source": [
    "#read in each line minus the header row of species file\n",
    "species_compartments = []\n",
    "for row in species_sheet[1:]:\n",
    "    species_compartments.append(row[1])\n",
    "species_compartments = np.array(species_compartments)"
   ]
  },
  {
   "cell_type": "code",
   "execution_count": null,
   "metadata": {},
   "outputs": [],
   "source": [
    "#Write each species to model txt file\n",
    "fileModel.write(\"\\n\")\n",
    "for idx,val in enumerate(species_sheet[1:]):\n",
    "    fileModel.write(\"  Species \")\n",
    "    fileModel.write(\"%s in %s\" % (val[0], species_compartments[idx]))\n",
    "    fileModel.write(\";\\n\")"
   ]
  },
  {
   "cell_type": "code",
   "execution_count": null,
   "metadata": {},
   "outputs": [],
   "source": [
    "# Write reactions and rate laws\n",
    "fileModel.write(\"\\n\\n  # Reactions:\\n\")"
   ]
  },
  {
   "cell_type": "code",
   "execution_count": null,
   "metadata": {},
   "outputs": [],
   "source": [
    "#reads in file from excel and gets rid of first row and column (they're data labels)\n",
    "stoic_sheet = np.array([np.array(line.strip().split(\"\\t\")) for line in open('StoicMat.txt')])"
   ]
  },
  {
   "cell_type": "code",
   "execution_count": null,
   "metadata": {},
   "outputs": [],
   "source": [
    "#gets first column minus blank space at the beginning, adds to stoic data list\n",
    "stoic_columnnames = stoic_sheet[0]\n",
    "stoic_rownames = [line[0] for line in stoic_sheet[1:]]\n",
    "stoic_data = np.array([line[1:] for line in stoic_sheet[1:]])"
   ]
  },
  {
   "cell_type": "code",
   "execution_count": null,
   "metadata": {},
   "outputs": [],
   "source": [
    "#creates associated ratelaw data list\n",
    "ratelaw_sheet = np.array([np.array(line.strip().split(\"\\t\")) for line in open('Ratelaws.txt')])\n",
    "ratelaw_data = np.array([line[1:] for line in ratelaw_sheet[1:]])"
   ]
  },
  {
   "cell_type": "code",
   "execution_count": null,
   "metadata": {},
   "outputs": [],
   "source": [
    "# builds the important ratelaw+stoic lines into the txt file \n",
    "paramnames = []\n",
    "paramvals = []\n",
    "for rowNum, ratelaw in enumerate(ratelaw_data):\n",
    "    reactants = []\n",
    "    products = []\n",
    "    formula=\"k\"+str(rowNum+1)+\"*\"\n",
    "\n",
    "    for i, stoic_rowname in enumerate(stoic_rownames):\n",
    "        stoic_value = int(stoic_data[i][rowNum])\n",
    "        if stoic_value < 0:\n",
    "            for j in range(0,stoic_value*-1):\n",
    "                reactants.append(stoic_rowname)\n",
    "                formula=formula+stoic_rowname+\"*\"\n",
    "        elif stoic_value > 0:\n",
    "            for j in range(0,stoic_value):\n",
    "                products.append(stoic_rowname)\n",
    "\n",
    "    if \"k\" not in ratelaw[1]:\n",
    "        # the mass-action formula\n",
    "        formula=formula[:-1]\n",
    "        #the parameter\n",
    "        paramnames.append(\"k\"+str(rowNum+1))\n",
    "        paramvals.append(np.double(ratelaw[1]))\n",
    "    else:\n",
    "        # specific formula (non-mass-action)\n",
    "        formula = ratelaw[1]\n",
    "        j = 1\n",
    "        params = np.genfromtxt(ratelaw[2:], float) # parameters\n",
    "        params = params[~np.isnan(params)]\n",
    "        if len(params) == 1:\n",
    "            paramnames.append(\"k\"+str(rowNum+1)+\"_\"+str(j))\n",
    "            paramvals.append(float(ratelaw[j+1]))\n",
    "            pattern = 'k\\D*\\d*'\n",
    "            compiled = re.compile(pattern)\n",
    "            matches = compiled.finditer(formula)\n",
    "            for ematch in matches:\n",
    "                formula = formula.replace(ematch.group(),paramnames[-1])\n",
    "        else:\n",
    "            for p in params:\n",
    "                paramnames.append(\"k\"+str(rowNum+1)+\"_\"+str(j))\n",
    "                paramvals.append(float(ratelaw[j+1]))\n",
    "                pattern1 = 'k(\\D*)\\d*'+'_'+str(j)\n",
    "                compiled1 = re.compile(pattern1)\n",
    "                matches1 = compiled1.finditer(formula)\n",
    "                for ematch in matches1:\n",
    "                    formula = formula.replace(ematch.group(),paramnames[-1])\n",
    "                j +=1\n",
    "    if ratelaw[0] == 'Cytoplasm':\n",
    "        valcomp = 5.25e-12\n",
    "    elif ratelaw[0] == 'Extracellular':\n",
    "        valcomp = 5.00e-5\n",
    "    elif ratelaw[0] == 'Nucleus':\n",
    "        valcomp = 1.75e-12\n",
    "    elif ratelaw[0] == 'Mitochondrion':\n",
    "        valcomp = 3.675e-13\n",
    "    #don't include reactions without products or reactants\n",
    "    if products == [] and reactants == []:\n",
    "        pass\n",
    "    else:\n",
    "        fileModel.write(\"  %s: %s => %s; (%s)*%.6e;\\n\" % (stoic_columnnames[rowNum], \" + \".join(reactants), \" + \".join(products), formula, valcomp))"
   ]
  },
  {
   "cell_type": "code",
   "execution_count": null,
   "metadata": {},
   "outputs": [],
   "source": [
    "# Write compartment ICs\n",
    "fileModel.write(\"\\n  # Compartment initializations:\\n\")\n",
    "for idx in range(len(compartments)):\n",
    "    fileModel.write(\"  %s = %.6e;\\n\" % (compartments[idx], np.double(volumes[idx]))) # '%.3e'  \"%.4g\"\n",
    "    fileModel.write(\"  %s has volume;\\n\" % (compartments[idx]))"
   ]
  },
  {
   "cell_type": "code",
   "execution_count": null,
   "metadata": {},
   "outputs": [],
   "source": [
    "# Write species ICs\n",
    "fileModel.write(\"\\n  # Species initializations:\\n\")\n",
    "for idx, val in enumerate(species_sheet[1:]):\n",
    "    fileModel.write(\"  %s = %.6e;\\n\" % (val[0],np.double(val[2]))) # '%.3e'  \"%.4g\""
   ]
  },
  {
   "cell_type": "code",
   "execution_count": null,
   "metadata": {},
   "outputs": [],
   "source": [
    "# Write parameter ICs\n",
    "fileModel.write(\"\\n  # Parameter initializations:\\n\")\n",
    "count = 0\n",
    "for param in paramnames:\n",
    "    fileModel.write(\"  %s = %.6e;\\n\" % (param, np.double(paramvals[count]))) # '%.3e'  \"%.4g\"\n",
    "    count += 1"
   ]
  },
  {
   "cell_type": "code",
   "execution_count": null,
   "metadata": {},
   "outputs": [],
   "source": [
    "# Write other declarations\n",
    "constantVars = ['Cytoplasm','Extracellular','Nucleus','Mitochondrion']\n",
    "\n",
    "fileModel.write(\"\\n  # Other declarations:\\n\")\n",
    "fileModel.write(\"  const\")\n",
    "for constVar in constantVars[:-1]:\n",
    "    fileModel.write(\"  %s,\" % (constVar))\n",
    "#last item in row needs semicolon\n",
    "fileModel.write(\"  %s;\\n\" % (constantVars[-1]))"
   ]
  },
  {
   "cell_type": "code",
   "execution_count": null,
   "metadata": {},
   "outputs": [],
   "source": [
    "# Write unit definitions\n",
    "fileModel.write(\"\\n  # Unit definitions:\")\n",
    "fileModel.write(\"\\n  unit time_unit = second;\")\n",
    "fileModel.write(\"\\n  unit volume = litre;\")\n",
    "fileModel.write(\"\\n  unit substance = 1e-9 mole;\")\n",
    "fileModel.write(\"\\n  unit nM = 1e-9 mole / litre;\")\n",
    "fileModel.write(\"\\n\")\n",
    "\n",
    "# End the model file\n",
    "fileModel.write(\"\\nend\")\n",
    "# Close the file\n",
    "fileModel.close()"
   ]
  },
  {
   "cell_type": "code",
   "execution_count": null,
   "metadata": {},
   "outputs": [],
   "source": [
    "# load model and convert to SBML\n",
    "if loadFile(\"SPARCED.txt\") == 1:\n",
    "    print(\"Success loading antimony file\")\n",
    "else:\n",
    "    print(\"Failed to load antimony file\")\n",
    "    exit(1)\n",
    "\n",
    "if writeSBMLFile(\"SPARCED.xml\",\"SPARCED\") == 1:\n",
    "    print(\"Success converting antimony to SBML\")\n",
    "else:\n",
    "    print(\"Failure converting antimony to SBML\")\n",
    "    exit(1)"
   ]
  },
  {
   "cell_type": "code",
   "execution_count": null,
   "metadata": {},
   "outputs": [],
   "source": [
    "# create interaction components\n",
    "sbml_reader = libsbml.SBMLReader()\n",
    "sbml_doc = sbml_reader.readSBML(sbml_file)\n",
    "sbml_model = sbml_doc.getModel()"
   ]
  },
  {
   "cell_type": "code",
   "execution_count": null,
   "metadata": {},
   "outputs": [],
   "source": [
    "# Set species annotations\n",
    "for idx,row in enumerate(species_sheet[1:]):\n",
    "    Annot=\"\"\n",
    "    for col in range(4,(len(row))):\n",
    "        aa=str(row[col].strip())\n",
    "        if aa==\"nan\" or aa == \"\":\n",
    "            break\n",
    "        else:\n",
    "            Annot=Annot+\" \"+row[col]\n",
    "    sbml_model.getSpecies(row[0]).setAnnotation(Annot)"
   ]
  },
  {
   "cell_type": "code",
   "execution_count": null,
   "metadata": {},
   "outputs": [],
   "source": [
    "# Set compartment annotations\n",
    "for row in compartment_sheet[1:]:\n",
    "    sbml_model.getCompartment(row[0]).setAnnotation(row[2])"
   ]
  },
  {
   "cell_type": "code",
   "execution_count": null,
   "metadata": {},
   "outputs": [],
   "source": [
    "# Write with the same name or use the next section instead of below lines\n",
    "writer = libsbml.SBMLWriter()\n",
    "writer.writeSBML(sbml_doc, sbml_file)"
   ]
  },
  {
   "cell_type": "code",
   "execution_count": null,
   "metadata": {},
   "outputs": [],
   "source": [
    "# prepares to use interaction components to synthesize model\n",
    "model_name = sbml_file[0:-4]\n",
    "model_output_dir = model_name\n",
    "\n",
    "sbml_reader = libsbml.SBMLReader()\n",
    "sbml_doc = sbml_reader.readSBML(sbml_file)\n",
    "sbml_model = sbml_doc.getModel()"
   ]
  },
  {
   "cell_type": "code",
   "execution_count": null,
   "metadata": {},
   "outputs": [],
   "source": [
    "# Create an SbmlImporter instance for our SBML model\n",
    "sbml_importer = amici.SbmlImporter(sbml_file)"
   ]
  },
  {
   "cell_type": "code",
   "execution_count": null,
   "metadata": {},
   "outputs": [],
   "source": [
    "#sets important constants for model build\n",
    "constantParameters = [params.getId() for params in sbml_model.getListOfParameters()]\n",
    "observables={'actp53':{'formula': 'p53ac'},'phERK':{'formula': 'ppERK'},'egfLR':{'formula': 'EE1'}}"
   ]
  },
  {
   "cell_type": "code",
   "execution_count": 1,
   "metadata": {},
   "outputs": [],
   "source": [
    "# uses amici to make mathematical conversions for model (this step can take a while)\n",
    "sbml_importer.sbml2amici(model_name,\n",
    "                         model_output_dir,\n",
    "                         verbose=False,\n",
    "                         observables=observables,\n",
    "                         constantParameters=constantParameters)"
   ]
  },
  {
   "cell_type": "code",
   "execution_count": 2,
   "metadata": {},
   "outputs": [],
   "source": [
    "# sets environment for model creation\n",
    "sys.path.insert(0, os.path.abspath(model_output_dir))\n",
    "model_module = importlib.import_module(model_name)\n",
    "model = model_module.getModel()"
   ]
  },
  {
   "cell_type": "code",
   "execution_count": null,
   "metadata": {},
   "outputs": [],
   "source": [
    "# set timepoints for which we want to simulate the model\n",
    "model.setTimepoints(np.linspace(0, 86400, 2881))"
   ]
  },
  {
   "cell_type": "code",
   "execution_count": null,
   "metadata": {},
   "outputs": [],
   "source": [
    "# Create solver instance\n",
    "solver = model.getSolver()\n",
    "solver.setMaxSteps = 1e10"
   ]
  },
  {
   "cell_type": "code",
   "execution_count": null,
   "metadata": {},
   "outputs": [],
   "source": [
    "# Run simulation using default model parameters and solver options\n",
    "rdata = amici.runAmiciSimulation(model, solver)"
   ]
  },
  {
   "cell_type": "code",
   "execution_count": null,
   "metadata": {},
   "outputs": [],
   "source": [
    "#### Stuff that can be useful\n",
    "\n",
    "# rdata['t']\n",
    "rdata['x'][:, 1]\n",
    "# rdata['y'][:,1]\n",
    "\n",
    "# for count,ele in enumerate(model.getStateIds()): \n",
    "#     print(count,ele) \n",
    "    \n",
    "amici.plotting.plotStateTrajectories(rdata,state_indices=[0])\n",
    "# amici.plotting.plotStateTrajectories(rdata,state_indices=[2])\n",
    "amici.plotting.plotStateTrajectories(rdata,state_indices=[105])\n",
    "\n",
    "# rdataDF = pd.DataFrame(data=rdata['x'],columns=model.getStateIds()) \n",
    "# rdataDF.to_excel('rdataDF.xlsx')"
   ]
  }
 ],
 "metadata": {
  "file_extension": ".py",
  "kernelspec": {
   "display_name": "Python 3 (Spyder)",
   "language": "python3",
   "name": "python3"
  },
  "language_info": {
   "codemirror_mode": {
    "name": "ipython",
    "version": 3
   },
   "file_extension": ".py",
   "mimetype": "text/x-python",
   "name": "python",
   "nbconvert_exporter": "python",
   "pygments_lexer": "ipython3",
   "version": "3.7.5"
  },
  "mimetype": "text/x-python",
  "name": "python",
  "npconvert_exporter": "python",
  "pygments_lexer": "ipython3",
  "version": 3
 },
 "nbformat": 4,
 "nbformat_minor": 4
}
